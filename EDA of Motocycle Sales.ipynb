{
 "cells": [
  {
   "cell_type": "markdown",
   "id": "c769c51e",
   "metadata": {},
   "source": [
    "### About the data\n",
    "\n",
    "This is the data of a company that sells motorcycle parts. The company operates three warehouses in a large metropolitan area."
   ]
  },
  {
   "cell_type": "code",
   "execution_count": 1,
   "id": "eb4a8b54",
   "metadata": {},
   "outputs": [],
   "source": [
    "#Import the needed libraries\n",
    "import pandas as pd\n",
    "import numpy as np\n",
    "import matplotlib.pyplot as plt\n",
    "import seaborn as sns\n",
    "%matplotlib inline\n",
    "plt.rcParams['figure.figsize']=(12,6)\n",
    "sns.set_style('darkgrid')"
   ]
  },
  {
   "cell_type": "code",
   "execution_count": 2,
   "id": "29b7728e",
   "metadata": {
    "scrolled": true
   },
   "outputs": [
    {
     "data": {
      "text/html": [
       "<div>\n",
       "<style scoped>\n",
       "    .dataframe tbody tr th:only-of-type {\n",
       "        vertical-align: middle;\n",
       "    }\n",
       "\n",
       "    .dataframe tbody tr th {\n",
       "        vertical-align: top;\n",
       "    }\n",
       "\n",
       "    .dataframe thead th {\n",
       "        text-align: right;\n",
       "    }\n",
       "</style>\n",
       "<table border=\"1\" class=\"dataframe\">\n",
       "  <thead>\n",
       "    <tr style=\"text-align: right;\">\n",
       "      <th></th>\n",
       "      <th>date</th>\n",
       "      <th>warehouse</th>\n",
       "      <th>client_type</th>\n",
       "      <th>product_line</th>\n",
       "      <th>quantity</th>\n",
       "      <th>unit_price</th>\n",
       "      <th>total</th>\n",
       "      <th>payment</th>\n",
       "    </tr>\n",
       "  </thead>\n",
       "  <tbody>\n",
       "    <tr>\n",
       "      <th>0</th>\n",
       "      <td>2021-06-01</td>\n",
       "      <td>Central</td>\n",
       "      <td>Retail</td>\n",
       "      <td>Miscellaneous</td>\n",
       "      <td>8</td>\n",
       "      <td>16.85</td>\n",
       "      <td>134.83</td>\n",
       "      <td>Credit card</td>\n",
       "    </tr>\n",
       "    <tr>\n",
       "      <th>1</th>\n",
       "      <td>2021-06-01</td>\n",
       "      <td>North</td>\n",
       "      <td>Retail</td>\n",
       "      <td>Breaking system</td>\n",
       "      <td>9</td>\n",
       "      <td>19.29</td>\n",
       "      <td>173.61</td>\n",
       "      <td>Cash</td>\n",
       "    </tr>\n",
       "    <tr>\n",
       "      <th>2</th>\n",
       "      <td>2021-06-01</td>\n",
       "      <td>North</td>\n",
       "      <td>Retail</td>\n",
       "      <td>Suspension &amp; traction</td>\n",
       "      <td>8</td>\n",
       "      <td>32.93</td>\n",
       "      <td>263.45</td>\n",
       "      <td>Credit card</td>\n",
       "    </tr>\n",
       "    <tr>\n",
       "      <th>3</th>\n",
       "      <td>2021-06-01</td>\n",
       "      <td>North</td>\n",
       "      <td>Wholesale</td>\n",
       "      <td>Frame &amp; body</td>\n",
       "      <td>16</td>\n",
       "      <td>37.84</td>\n",
       "      <td>605.44</td>\n",
       "      <td>Transfer</td>\n",
       "    </tr>\n",
       "    <tr>\n",
       "      <th>4</th>\n",
       "      <td>2021-06-01</td>\n",
       "      <td>Central</td>\n",
       "      <td>Retail</td>\n",
       "      <td>Engine</td>\n",
       "      <td>2</td>\n",
       "      <td>60.48</td>\n",
       "      <td>120.96</td>\n",
       "      <td>Credit card</td>\n",
       "    </tr>\n",
       "    <tr>\n",
       "      <th>5</th>\n",
       "      <td>2021-06-01</td>\n",
       "      <td>North</td>\n",
       "      <td>Wholesale</td>\n",
       "      <td>Suspension &amp; traction</td>\n",
       "      <td>40</td>\n",
       "      <td>37.37</td>\n",
       "      <td>1494.80</td>\n",
       "      <td>Transfer</td>\n",
       "    </tr>\n",
       "    <tr>\n",
       "      <th>6</th>\n",
       "      <td>2021-06-01</td>\n",
       "      <td>West</td>\n",
       "      <td>Retail</td>\n",
       "      <td>Electrical system</td>\n",
       "      <td>2</td>\n",
       "      <td>27.20</td>\n",
       "      <td>54.41</td>\n",
       "      <td>Credit card</td>\n",
       "    </tr>\n",
       "    <tr>\n",
       "      <th>7</th>\n",
       "      <td>2021-06-01</td>\n",
       "      <td>Central</td>\n",
       "      <td>Retail</td>\n",
       "      <td>Breaking system</td>\n",
       "      <td>10</td>\n",
       "      <td>22.44</td>\n",
       "      <td>224.38</td>\n",
       "      <td>Credit card</td>\n",
       "    </tr>\n",
       "    <tr>\n",
       "      <th>8</th>\n",
       "      <td>2021-06-01</td>\n",
       "      <td>West</td>\n",
       "      <td>Wholesale</td>\n",
       "      <td>Frame &amp; body</td>\n",
       "      <td>40</td>\n",
       "      <td>39.50</td>\n",
       "      <td>1579.87</td>\n",
       "      <td>Transfer</td>\n",
       "    </tr>\n",
       "    <tr>\n",
       "      <th>9</th>\n",
       "      <td>2021-06-01</td>\n",
       "      <td>North</td>\n",
       "      <td>Retail</td>\n",
       "      <td>Frame &amp; body</td>\n",
       "      <td>6</td>\n",
       "      <td>45.44</td>\n",
       "      <td>272.61</td>\n",
       "      <td>Credit card</td>\n",
       "    </tr>\n",
       "  </tbody>\n",
       "</table>\n",
       "</div>"
      ],
      "text/plain": [
       "        date warehouse client_type           product_line  quantity  \\\n",
       "0 2021-06-01   Central      Retail          Miscellaneous         8   \n",
       "1 2021-06-01     North      Retail        Breaking system         9   \n",
       "2 2021-06-01     North      Retail  Suspension & traction         8   \n",
       "3 2021-06-01     North   Wholesale           Frame & body        16   \n",
       "4 2021-06-01   Central      Retail                 Engine         2   \n",
       "5 2021-06-01     North   Wholesale  Suspension & traction        40   \n",
       "6 2021-06-01      West      Retail      Electrical system         2   \n",
       "7 2021-06-01   Central      Retail        Breaking system        10   \n",
       "8 2021-06-01      West   Wholesale           Frame & body        40   \n",
       "9 2021-06-01     North      Retail           Frame & body         6   \n",
       "\n",
       "   unit_price    total      payment  \n",
       "0       16.85   134.83  Credit card  \n",
       "1       19.29   173.61         Cash  \n",
       "2       32.93   263.45  Credit card  \n",
       "3       37.84   605.44     Transfer  \n",
       "4       60.48   120.96  Credit card  \n",
       "5       37.37  1494.80     Transfer  \n",
       "6       27.20    54.41  Credit card  \n",
       "7       22.44   224.38  Credit card  \n",
       "8       39.50  1579.87     Transfer  \n",
       "9       45.44   272.61  Credit card  "
      ]
     },
     "execution_count": 2,
     "metadata": {},
     "output_type": "execute_result"
    }
   ],
   "source": [
    "#read the csv file\n",
    "\n",
    "motor= pd.read_csv('sales_data.csv', parse_dates=['date'])\n",
    "motor.head(10)"
   ]
  },
  {
   "cell_type": "markdown",
   "id": "4814c9bc",
   "metadata": {},
   "source": [
    "### Understanding the data"
   ]
  },
  {
   "cell_type": "code",
   "execution_count": 3,
   "id": "e4b116ff",
   "metadata": {},
   "outputs": [
    {
     "data": {
      "text/plain": [
       "(1000, 8)"
      ]
     },
     "execution_count": 3,
     "metadata": {},
     "output_type": "execute_result"
    }
   ],
   "source": [
    "motor.shape"
   ]
  },
  {
   "cell_type": "markdown",
   "id": "4e7816ae",
   "metadata": {},
   "source": [
    "- The data set has 1000 rows and the 8 columns"
   ]
  },
  {
   "cell_type": "code",
   "execution_count": 4,
   "id": "ba751e03",
   "metadata": {},
   "outputs": [
    {
     "name": "stdout",
     "output_type": "stream",
     "text": [
      "<class 'pandas.core.frame.DataFrame'>\n",
      "RangeIndex: 1000 entries, 0 to 999\n",
      "Data columns (total 8 columns):\n",
      " #   Column        Non-Null Count  Dtype         \n",
      "---  ------        --------------  -----         \n",
      " 0   date          1000 non-null   datetime64[ns]\n",
      " 1   warehouse     1000 non-null   object        \n",
      " 2   client_type   1000 non-null   object        \n",
      " 3   product_line  1000 non-null   object        \n",
      " 4   quantity      1000 non-null   int64         \n",
      " 5   unit_price    1000 non-null   float64       \n",
      " 6   total         1000 non-null   float64       \n",
      " 7   payment       1000 non-null   object        \n",
      "dtypes: datetime64[ns](1), float64(2), int64(1), object(4)\n",
      "memory usage: 62.6+ KB\n"
     ]
    }
   ],
   "source": [
    "motor.info()"
   ]
  },
  {
   "cell_type": "markdown",
   "id": "3b722af2",
   "metadata": {},
   "source": [
    "- The data set has no missing entries, hence it is a complete data set. \n",
    "- There are 4 columns that contains 'objects', 2 columns that contains 'float variable', 1 column that contain an 'integer' and 1 column that contains the 'date values'"
   ]
  },
  {
   "cell_type": "code",
   "execution_count": 5,
   "id": "5d3291f0",
   "metadata": {},
   "outputs": [
    {
     "data": {
      "text/html": [
       "<div>\n",
       "<style scoped>\n",
       "    .dataframe tbody tr th:only-of-type {\n",
       "        vertical-align: middle;\n",
       "    }\n",
       "\n",
       "    .dataframe tbody tr th {\n",
       "        vertical-align: top;\n",
       "    }\n",
       "\n",
       "    .dataframe thead th {\n",
       "        text-align: right;\n",
       "    }\n",
       "</style>\n",
       "<table border=\"1\" class=\"dataframe\">\n",
       "  <thead>\n",
       "    <tr style=\"text-align: right;\">\n",
       "      <th></th>\n",
       "      <th>quantity</th>\n",
       "      <th>unit_price</th>\n",
       "      <th>total</th>\n",
       "    </tr>\n",
       "  </thead>\n",
       "  <tbody>\n",
       "    <tr>\n",
       "      <th>count</th>\n",
       "      <td>1000.000000</td>\n",
       "      <td>1000.000000</td>\n",
       "      <td>1000.000000</td>\n",
       "    </tr>\n",
       "    <tr>\n",
       "      <th>mean</th>\n",
       "      <td>9.395000</td>\n",
       "      <td>30.322040</td>\n",
       "      <td>289.113000</td>\n",
       "    </tr>\n",
       "    <tr>\n",
       "      <th>std</th>\n",
       "      <td>9.659207</td>\n",
       "      <td>12.256488</td>\n",
       "      <td>345.227596</td>\n",
       "    </tr>\n",
       "    <tr>\n",
       "      <th>min</th>\n",
       "      <td>1.000000</td>\n",
       "      <td>10.030000</td>\n",
       "      <td>10.350000</td>\n",
       "    </tr>\n",
       "    <tr>\n",
       "      <th>25%</th>\n",
       "      <td>4.000000</td>\n",
       "      <td>21.085000</td>\n",
       "      <td>93.687500</td>\n",
       "    </tr>\n",
       "    <tr>\n",
       "      <th>50%</th>\n",
       "      <td>6.500000</td>\n",
       "      <td>28.570000</td>\n",
       "      <td>178.360000</td>\n",
       "    </tr>\n",
       "    <tr>\n",
       "      <th>75%</th>\n",
       "      <td>10.000000</td>\n",
       "      <td>37.917500</td>\n",
       "      <td>321.690000</td>\n",
       "    </tr>\n",
       "    <tr>\n",
       "      <th>max</th>\n",
       "      <td>40.000000</td>\n",
       "      <td>66.620000</td>\n",
       "      <td>2546.330000</td>\n",
       "    </tr>\n",
       "  </tbody>\n",
       "</table>\n",
       "</div>"
      ],
      "text/plain": [
       "          quantity   unit_price        total\n",
       "count  1000.000000  1000.000000  1000.000000\n",
       "mean      9.395000    30.322040   289.113000\n",
       "std       9.659207    12.256488   345.227596\n",
       "min       1.000000    10.030000    10.350000\n",
       "25%       4.000000    21.085000    93.687500\n",
       "50%       6.500000    28.570000   178.360000\n",
       "75%      10.000000    37.917500   321.690000\n",
       "max      40.000000    66.620000  2546.330000"
      ]
     },
     "execution_count": 5,
     "metadata": {},
     "output_type": "execute_result"
    }
   ],
   "source": [
    "motor.describe()"
   ]
  },
  {
   "cell_type": "markdown",
   "id": "dc4f587f",
   "metadata": {},
   "source": [
    "- This shows the description of all the numerical variables in the data set.\n",
    "- The data also shows that the mean and standard deviation are in close range and not dispersed, in other words, there are no outliers."
   ]
  },
  {
   "cell_type": "code",
   "execution_count": 6,
   "id": "6acec031",
   "metadata": {},
   "outputs": [
    {
     "data": {
      "text/plain": [
       "date            0\n",
       "warehouse       0\n",
       "client_type     0\n",
       "product_line    0\n",
       "quantity        0\n",
       "unit_price      0\n",
       "total           0\n",
       "payment         0\n",
       "dtype: int64"
      ]
     },
     "execution_count": 6,
     "metadata": {},
     "output_type": "execute_result"
    }
   ],
   "source": [
    "motor.isnull().sum()"
   ]
  },
  {
   "cell_type": "markdown",
   "id": "02472166",
   "metadata": {},
   "source": [
    "- This is the sum of all the missing variables in each column. In this data set, there are no missing varibles."
   ]
  },
  {
   "cell_type": "code",
   "execution_count": 7,
   "id": "7ba0bdcf",
   "metadata": {},
   "outputs": [
    {
     "data": {
      "text/html": [
       "<div>\n",
       "<style scoped>\n",
       "    .dataframe tbody tr th:only-of-type {\n",
       "        vertical-align: middle;\n",
       "    }\n",
       "\n",
       "    .dataframe tbody tr th {\n",
       "        vertical-align: top;\n",
       "    }\n",
       "\n",
       "    .dataframe thead th {\n",
       "        text-align: right;\n",
       "    }\n",
       "</style>\n",
       "<table border=\"1\" class=\"dataframe\">\n",
       "  <thead>\n",
       "    <tr style=\"text-align: right;\">\n",
       "      <th></th>\n",
       "      <th>date</th>\n",
       "      <th>warehouse</th>\n",
       "      <th>client_type</th>\n",
       "      <th>product_line</th>\n",
       "      <th>quantity</th>\n",
       "      <th>unit_price</th>\n",
       "      <th>total</th>\n",
       "      <th>payment</th>\n",
       "    </tr>\n",
       "  </thead>\n",
       "  <tbody>\n",
       "  </tbody>\n",
       "</table>\n",
       "</div>"
      ],
      "text/plain": [
       "Empty DataFrame\n",
       "Columns: [date, warehouse, client_type, product_line, quantity, unit_price, total, payment]\n",
       "Index: []"
      ]
     },
     "execution_count": 7,
     "metadata": {},
     "output_type": "execute_result"
    }
   ],
   "source": [
    "duplicate= motor[motor.duplicated()]\n",
    "duplicate"
   ]
  },
  {
   "cell_type": "markdown",
   "id": "e0bf844f",
   "metadata": {},
   "source": [
    "- This shows that there are no duplicates in the column headers"
   ]
  },
  {
   "cell_type": "code",
   "execution_count": 8,
   "id": "0e3a1370",
   "metadata": {},
   "outputs": [
    {
     "name": "stdout",
     "output_type": "stream",
     "text": [
      "Number of duplicate values are : 0\n"
     ]
    }
   ],
   "source": [
    "#To give the total number of duplicates if there are\n",
    "\n",
    "print(f'Number of duplicate values are : {len(duplicate)}') "
   ]
  },
  {
   "cell_type": "markdown",
   "id": "f4b07c26",
   "metadata": {},
   "source": [
    "### To check for unique objects in the column\n"
   ]
  },
  {
   "cell_type": "code",
   "execution_count": 9,
   "id": "373c2ea8",
   "metadata": {},
   "outputs": [
    {
     "data": {
      "text/plain": [
       "array(['Central', 'North', 'West'], dtype=object)"
      ]
     },
     "execution_count": 9,
     "metadata": {},
     "output_type": "execute_result"
    }
   ],
   "source": [
    "motor.warehouse.unique()"
   ]
  },
  {
   "cell_type": "code",
   "execution_count": 10,
   "id": "bbe8c67e",
   "metadata": {},
   "outputs": [
    {
     "data": {
      "text/plain": [
       "3"
      ]
     },
     "execution_count": 10,
     "metadata": {},
     "output_type": "execute_result"
    }
   ],
   "source": [
    "motor.warehouse.nunique()"
   ]
  },
  {
   "cell_type": "code",
   "execution_count": 11,
   "id": "bdc93b93",
   "metadata": {
    "scrolled": true
   },
   "outputs": [
    {
     "data": {
      "text/plain": [
       "array(['Retail', 'Wholesale'], dtype=object)"
      ]
     },
     "execution_count": 11,
     "metadata": {},
     "output_type": "execute_result"
    }
   ],
   "source": [
    "motor.client_type.unique()"
   ]
  },
  {
   "cell_type": "code",
   "execution_count": 12,
   "id": "2c5e0ef0",
   "metadata": {},
   "outputs": [
    {
     "data": {
      "text/plain": [
       "2"
      ]
     },
     "execution_count": 12,
     "metadata": {},
     "output_type": "execute_result"
    }
   ],
   "source": [
    "motor.client_type.nunique()"
   ]
  },
  {
   "cell_type": "code",
   "execution_count": 13,
   "id": "09ff4f27",
   "metadata": {},
   "outputs": [
    {
     "data": {
      "text/plain": [
       "array(['Miscellaneous', 'Breaking system', 'Suspension & traction',\n",
       "       'Frame & body', 'Engine', 'Electrical system'], dtype=object)"
      ]
     },
     "execution_count": 13,
     "metadata": {},
     "output_type": "execute_result"
    }
   ],
   "source": [
    "motor.product_line.unique()"
   ]
  },
  {
   "cell_type": "code",
   "execution_count": 14,
   "id": "4e4b6e59",
   "metadata": {},
   "outputs": [
    {
     "data": {
      "text/plain": [
       "6"
      ]
     },
     "execution_count": 14,
     "metadata": {},
     "output_type": "execute_result"
    }
   ],
   "source": [
    "motor.product_line.nunique()"
   ]
  },
  {
   "cell_type": "code",
   "execution_count": 15,
   "id": "8548321b",
   "metadata": {},
   "outputs": [
    {
     "data": {
      "text/plain": [
       "array(['Credit card', 'Cash', 'Transfer'], dtype=object)"
      ]
     },
     "execution_count": 15,
     "metadata": {},
     "output_type": "execute_result"
    }
   ],
   "source": [
    "motor.payment.unique()"
   ]
  },
  {
   "cell_type": "code",
   "execution_count": 16,
   "id": "426621ef",
   "metadata": {},
   "outputs": [
    {
     "data": {
      "text/plain": [
       "3"
      ]
     },
     "execution_count": 16,
     "metadata": {},
     "output_type": "execute_result"
    }
   ],
   "source": [
    "motor.payment.nunique()"
   ]
  },
  {
   "cell_type": "markdown",
   "id": "73bf94dd",
   "metadata": {},
   "source": [
    "### Observations from the data\n",
    "\n",
    "1. The dataset contains information from June to August, 2021\n",
    "2. The company has two client types: Retail and Wholesale\n",
    "3. The company operates in three warehouses in the Noth, West and Central\n",
    "4. The products purchased are grouped into 6 product lines\n",
    "5. The company accepts three payment methods: credit card cash, and Transfer"
   ]
  },
  {
   "cell_type": "markdown",
   "id": "af4b764e",
   "metadata": {},
   "source": [
    "### Analysing the data"
   ]
  },
  {
   "cell_type": "markdown",
   "id": "dc6ed607",
   "metadata": {},
   "source": [
    "#### Total sales for each warehouse"
   ]
  },
  {
   "cell_type": "code",
   "execution_count": 17,
   "id": "92870562",
   "metadata": {
    "scrolled": false
   },
   "outputs": [
    {
     "data": {
      "text/html": [
       "<div>\n",
       "<style scoped>\n",
       "    .dataframe tbody tr th:only-of-type {\n",
       "        vertical-align: middle;\n",
       "    }\n",
       "\n",
       "    .dataframe tbody tr th {\n",
       "        vertical-align: top;\n",
       "    }\n",
       "\n",
       "    .dataframe thead th {\n",
       "        text-align: right;\n",
       "    }\n",
       "</style>\n",
       "<table border=\"1\" class=\"dataframe\">\n",
       "  <thead>\n",
       "    <tr style=\"text-align: right;\">\n",
       "      <th></th>\n",
       "      <th>total</th>\n",
       "    </tr>\n",
       "    <tr>\n",
       "      <th>warehouse</th>\n",
       "      <th></th>\n",
       "    </tr>\n",
       "  </thead>\n",
       "  <tbody>\n",
       "    <tr>\n",
       "      <th>Central</th>\n",
       "      <td>141982.88</td>\n",
       "    </tr>\n",
       "    <tr>\n",
       "      <th>North</th>\n",
       "      <td>100203.63</td>\n",
       "    </tr>\n",
       "    <tr>\n",
       "      <th>West</th>\n",
       "      <td>46926.49</td>\n",
       "    </tr>\n",
       "  </tbody>\n",
       "</table>\n",
       "</div>"
      ],
      "text/plain": [
       "               total\n",
       "warehouse           \n",
       "Central    141982.88\n",
       "North      100203.63\n",
       "West        46926.49"
      ]
     },
     "execution_count": 17,
     "metadata": {},
     "output_type": "execute_result"
    }
   ],
   "source": [
    "#first method\n",
    "motor.groupby('warehouse')[['total']].sum()"
   ]
  },
  {
   "cell_type": "code",
   "execution_count": 18,
   "id": "f5c401b9",
   "metadata": {},
   "outputs": [
    {
     "data": {
      "text/html": [
       "<div>\n",
       "<style scoped>\n",
       "    .dataframe tbody tr th:only-of-type {\n",
       "        vertical-align: middle;\n",
       "    }\n",
       "\n",
       "    .dataframe tbody tr th {\n",
       "        vertical-align: top;\n",
       "    }\n",
       "\n",
       "    .dataframe thead th {\n",
       "        text-align: right;\n",
       "    }\n",
       "</style>\n",
       "<table border=\"1\" class=\"dataframe\">\n",
       "  <thead>\n",
       "    <tr style=\"text-align: right;\">\n",
       "      <th></th>\n",
       "      <th>warehouse</th>\n",
       "      <th>sum</th>\n",
       "    </tr>\n",
       "  </thead>\n",
       "  <tbody>\n",
       "    <tr>\n",
       "      <th>0</th>\n",
       "      <td>Central</td>\n",
       "      <td>141982.88</td>\n",
       "    </tr>\n",
       "    <tr>\n",
       "      <th>1</th>\n",
       "      <td>North</td>\n",
       "      <td>100203.63</td>\n",
       "    </tr>\n",
       "    <tr>\n",
       "      <th>2</th>\n",
       "      <td>West</td>\n",
       "      <td>46926.49</td>\n",
       "    </tr>\n",
       "  </tbody>\n",
       "</table>\n",
       "</div>"
      ],
      "text/plain": [
       "  warehouse        sum\n",
       "0   Central  141982.88\n",
       "1     North  100203.63\n",
       "2      West   46926.49"
      ]
     },
     "execution_count": 18,
     "metadata": {},
     "output_type": "execute_result"
    }
   ],
   "source": [
    "#second method\n",
    "tot_sales_warehouse= motor.groupby('warehouse').total.agg(['sum']).reset_index()\n",
    "tot_sales_warehouse"
   ]
  },
  {
   "cell_type": "code",
   "execution_count": 19,
   "id": "ba24c898",
   "metadata": {
    "scrolled": true
   },
   "outputs": [
    {
     "data": {
      "text/plain": [
       "Text(0, 0.5, 'Total sales')"
      ]
     },
     "execution_count": 19,
     "metadata": {},
     "output_type": "execute_result"
    },
    {
     "data": {
      "image/png": "[encoded data removed]",
      "text/plain": [
       "<Figure size 864x432 with 1 Axes>"
      ]
     },
     "metadata": {},
     "output_type": "display_data"
    }
   ],
   "source": [
    "sns.barplot(x= 'warehouse', y='sum', data=tot_sales_warehouse)\n",
    "plt.title('Total sales for each warehouse', fontweight='bold', fontsize= 16)\n",
    "plt.xlabel('Warehouse', fontweight='bold', fontsize= 16)\n",
    "plt.ylabel('Total sales', fontweight='bold', fontsize=16)"
   ]
  },
  {
   "cell_type": "markdown",
   "id": "370930a1",
   "metadata": {},
   "source": [
    "#### Observation\n",
    "- The warehouse at the central zone has the highest motocycle sales while the west has the lowest sales."
   ]
  },
  {
   "cell_type": "markdown",
   "id": "60ba2df0",
   "metadata": {},
   "source": [
    "#### Total sales for each payment method"
   ]
  },
  {
   "cell_type": "code",
   "execution_count": 20,
   "id": "cc9a6831",
   "metadata": {
    "scrolled": true
   },
   "outputs": [
    {
     "data": {
      "text/html": [
       "<div>\n",
       "<style scoped>\n",
       "    .dataframe tbody tr th:only-of-type {\n",
       "        vertical-align: middle;\n",
       "    }\n",
       "\n",
       "    .dataframe tbody tr th {\n",
       "        vertical-align: top;\n",
       "    }\n",
       "\n",
       "    .dataframe thead th {\n",
       "        text-align: right;\n",
       "    }\n",
       "</style>\n",
       "<table border=\"1\" class=\"dataframe\">\n",
       "  <thead>\n",
       "    <tr style=\"text-align: right;\">\n",
       "      <th></th>\n",
       "      <th>total</th>\n",
       "    </tr>\n",
       "    <tr>\n",
       "      <th>payment</th>\n",
       "      <th></th>\n",
       "    </tr>\n",
       "  </thead>\n",
       "  <tbody>\n",
       "    <tr>\n",
       "      <th>Cash</th>\n",
       "      <td>19199.10</td>\n",
       "    </tr>\n",
       "    <tr>\n",
       "      <th>Credit card</th>\n",
       "      <td>110271.57</td>\n",
       "    </tr>\n",
       "    <tr>\n",
       "      <th>Transfer</th>\n",
       "      <td>159642.33</td>\n",
       "    </tr>\n",
       "  </tbody>\n",
       "</table>\n",
       "</div>"
      ],
      "text/plain": [
       "                 total\n",
       "payment               \n",
       "Cash          19199.10\n",
       "Credit card  110271.57\n",
       "Transfer     159642.33"
      ]
     },
     "execution_count": 20,
     "metadata": {},
     "output_type": "execute_result"
    }
   ],
   "source": [
    "#first method\n",
    "motor.groupby('payment')[['total']].sum()"
   ]
  },
  {
   "cell_type": "code",
   "execution_count": 21,
   "id": "5d91d190",
   "metadata": {
    "scrolled": true
   },
   "outputs": [
    {
     "data": {
      "text/html": [
       "<div>\n",
       "<style scoped>\n",
       "    .dataframe tbody tr th:only-of-type {\n",
       "        vertical-align: middle;\n",
       "    }\n",
       "\n",
       "    .dataframe tbody tr th {\n",
       "        vertical-align: top;\n",
       "    }\n",
       "\n",
       "    .dataframe thead th {\n",
       "        text-align: right;\n",
       "    }\n",
       "</style>\n",
       "<table border=\"1\" class=\"dataframe\">\n",
       "  <thead>\n",
       "    <tr style=\"text-align: right;\">\n",
       "      <th></th>\n",
       "      <th>payment</th>\n",
       "      <th>sum</th>\n",
       "    </tr>\n",
       "  </thead>\n",
       "  <tbody>\n",
       "    <tr>\n",
       "      <th>0</th>\n",
       "      <td>Cash</td>\n",
       "      <td>19199.10</td>\n",
       "    </tr>\n",
       "    <tr>\n",
       "      <th>1</th>\n",
       "      <td>Credit card</td>\n",
       "      <td>110271.57</td>\n",
       "    </tr>\n",
       "    <tr>\n",
       "      <th>2</th>\n",
       "      <td>Transfer</td>\n",
       "      <td>159642.33</td>\n",
       "    </tr>\n",
       "  </tbody>\n",
       "</table>\n",
       "</div>"
      ],
      "text/plain": [
       "       payment        sum\n",
       "0         Cash   19199.10\n",
       "1  Credit card  110271.57\n",
       "2     Transfer  159642.33"
      ]
     },
     "execution_count": 21,
     "metadata": {},
     "output_type": "execute_result"
    }
   ],
   "source": [
    "#second method\n",
    "total_sales_payment= motor.groupby('payment').total.agg(['sum']).reset_index()\n",
    "total_sales_payment"
   ]
  },
  {
   "cell_type": "code",
   "execution_count": 22,
   "id": "b28842db",
   "metadata": {
    "scrolled": true
   },
   "outputs": [
    {
     "data": {
      "image/png": "[encoded data removed]",
      "text/plain": [
       "<Figure size 864x432 with 1 Axes>"
      ]
     },
     "metadata": {},
     "output_type": "display_data"
    }
   ],
   "source": [
    "am= sns.barplot(x='payment',y= 'sum', data= total_sales_payment)\n",
    "plt.title('Total sales for each payment method', fontweight= 'bold', fontsize= 16)\n",
    "plt.xlabel('Payment', fontweight= 'bold', fontsize=16)\n",
    "plt.ylabel('Total sales', fontweight= 'bold', fontsize=16);\n",
    "for i in am.containers:\n",
    "    am.bar_label(i)"
   ]
  },
  {
   "cell_type": "markdown",
   "id": "7356f256",
   "metadata": {},
   "source": [
    "#### Observation\n",
    "- This shows that more sales were made by the transfer payment method. This could be due to the ease that comes with making transactions by the use of ussd code.\n",
    "- The cash payment method is least used for payment due to the fact that many have adopted the cashless policy and only a few move about with cash. This also comes with security to some extent."
   ]
  },
  {
   "cell_type": "markdown",
   "id": "73d3b4f4",
   "metadata": {},
   "source": [
    "#### Average unit price for each product line"
   ]
  },
  {
   "cell_type": "code",
   "execution_count": 23,
   "id": "c54adc9f",
   "metadata": {},
   "outputs": [
    {
     "data": {
      "text/html": [
       "<div>\n",
       "<style scoped>\n",
       "    .dataframe tbody tr th:only-of-type {\n",
       "        vertical-align: middle;\n",
       "    }\n",
       "\n",
       "    .dataframe tbody tr th {\n",
       "        vertical-align: top;\n",
       "    }\n",
       "\n",
       "    .dataframe thead th {\n",
       "        text-align: right;\n",
       "    }\n",
       "</style>\n",
       "<table border=\"1\" class=\"dataframe\">\n",
       "  <thead>\n",
       "    <tr style=\"text-align: right;\">\n",
       "      <th></th>\n",
       "      <th>unit_price</th>\n",
       "    </tr>\n",
       "    <tr>\n",
       "      <th>product_line</th>\n",
       "      <th></th>\n",
       "    </tr>\n",
       "  </thead>\n",
       "  <tbody>\n",
       "    <tr>\n",
       "      <th>Breaking system</th>\n",
       "      <td>17.740522</td>\n",
       "    </tr>\n",
       "    <tr>\n",
       "      <th>Electrical system</th>\n",
       "      <td>25.585130</td>\n",
       "    </tr>\n",
       "    <tr>\n",
       "      <th>Engine</th>\n",
       "      <td>60.091803</td>\n",
       "    </tr>\n",
       "    <tr>\n",
       "      <th>Frame &amp; body</th>\n",
       "      <td>42.832229</td>\n",
       "    </tr>\n",
       "    <tr>\n",
       "      <th>Miscellaneous</th>\n",
       "      <td>22.810738</td>\n",
       "    </tr>\n",
       "    <tr>\n",
       "      <th>Suspension &amp; traction</th>\n",
       "      <td>33.969868</td>\n",
       "    </tr>\n",
       "  </tbody>\n",
       "</table>\n",
       "</div>"
      ],
      "text/plain": [
       "                       unit_price\n",
       "product_line                     \n",
       "Breaking system         17.740522\n",
       "Electrical system       25.585130\n",
       "Engine                  60.091803\n",
       "Frame & body            42.832229\n",
       "Miscellaneous           22.810738\n",
       "Suspension & traction   33.969868"
      ]
     },
     "execution_count": 23,
     "metadata": {},
     "output_type": "execute_result"
    }
   ],
   "source": [
    "#First method \n",
    "motor.groupby('product_line')[['unit_price']].mean()"
   ]
  },
  {
   "cell_type": "code",
   "execution_count": 24,
   "id": "de8caa3b",
   "metadata": {},
   "outputs": [
    {
     "data": {
      "text/html": [
       "<div>\n",
       "<style scoped>\n",
       "    .dataframe tbody tr th:only-of-type {\n",
       "        vertical-align: middle;\n",
       "    }\n",
       "\n",
       "    .dataframe tbody tr th {\n",
       "        vertical-align: top;\n",
       "    }\n",
       "\n",
       "    .dataframe thead th {\n",
       "        text-align: right;\n",
       "    }\n",
       "</style>\n",
       "<table border=\"1\" class=\"dataframe\">\n",
       "  <thead>\n",
       "    <tr style=\"text-align: right;\">\n",
       "      <th></th>\n",
       "      <th>product_line</th>\n",
       "      <th>unit_price</th>\n",
       "    </tr>\n",
       "  </thead>\n",
       "  <tbody>\n",
       "    <tr>\n",
       "      <th>0</th>\n",
       "      <td>Breaking system</td>\n",
       "      <td>17.740522</td>\n",
       "    </tr>\n",
       "    <tr>\n",
       "      <th>1</th>\n",
       "      <td>Electrical system</td>\n",
       "      <td>25.585130</td>\n",
       "    </tr>\n",
       "    <tr>\n",
       "      <th>2</th>\n",
       "      <td>Engine</td>\n",
       "      <td>60.091803</td>\n",
       "    </tr>\n",
       "    <tr>\n",
       "      <th>3</th>\n",
       "      <td>Frame &amp; body</td>\n",
       "      <td>42.832229</td>\n",
       "    </tr>\n",
       "    <tr>\n",
       "      <th>4</th>\n",
       "      <td>Miscellaneous</td>\n",
       "      <td>22.810738</td>\n",
       "    </tr>\n",
       "    <tr>\n",
       "      <th>5</th>\n",
       "      <td>Suspension &amp; traction</td>\n",
       "      <td>33.969868</td>\n",
       "    </tr>\n",
       "  </tbody>\n",
       "</table>\n",
       "</div>"
      ],
      "text/plain": [
       "            product_line  unit_price\n",
       "0        Breaking system   17.740522\n",
       "1      Electrical system   25.585130\n",
       "2                 Engine   60.091803\n",
       "3           Frame & body   42.832229\n",
       "4          Miscellaneous   22.810738\n",
       "5  Suspension & traction   33.969868"
      ]
     },
     "execution_count": 24,
     "metadata": {},
     "output_type": "execute_result"
    }
   ],
   "source": [
    "#second method gives an index number\n",
    "avg_unit_price= motor.groupby('product_line').unit_price.mean().reset_index()\n",
    "avg_unit_price"
   ]
  },
  {
   "cell_type": "code",
   "execution_count": 25,
   "id": "05040d4f",
   "metadata": {},
   "outputs": [
    {
     "data": {
      "image/png": "[encoded data removed]",
      "text/plain": [
       "<Figure size 864x432 with 1 Axes>"
      ]
     },
     "metadata": {},
     "output_type": "display_data"
    }
   ],
   "source": [
    "gh= sns.barplot(x= 'product_line', y='unit_price', data= avg_unit_price)\n",
    "plt.title('Average unit price for each product line', fontweight='bold', fontsize=16)\n",
    "plt.xlabel('Product line', fontweight= 'bold', fontsize=16)\n",
    "plt.ylabel('Unit price', fontweight= 'bold', fontsize=16)\n",
    "for i in gh.containers:\n",
    "    gh.bar_label(i)"
   ]
  },
  {
   "cell_type": "markdown",
   "id": "18ab8e59",
   "metadata": {},
   "source": [
    "#### Observation\n",
    "- This shows that the Engine, which is one of the product lines has the highest unit price. This is because the engine is the critical part of a motocycle.\n",
    "- Next to it is the frame and body which is also an essential part of the motocycle.\n",
    "- The least unit price is the breaking system, which is equally vital but less expensive."
   ]
  },
  {
   "cell_type": "markdown",
   "id": "441ddc10",
   "metadata": {},
   "source": [
    "### Average purchase value by client type "
   ]
  },
  {
   "cell_type": "code",
   "execution_count": 26,
   "id": "a459b7d1",
   "metadata": {},
   "outputs": [
    {
     "data": {
      "text/html": [
       "<div>\n",
       "<style scoped>\n",
       "    .dataframe tbody tr th:only-of-type {\n",
       "        vertical-align: middle;\n",
       "    }\n",
       "\n",
       "    .dataframe tbody tr th {\n",
       "        vertical-align: top;\n",
       "    }\n",
       "\n",
       "    .dataframe thead th {\n",
       "        text-align: right;\n",
       "    }\n",
       "</style>\n",
       "<table border=\"1\" class=\"dataframe\">\n",
       "  <thead>\n",
       "    <tr style=\"text-align: right;\">\n",
       "      <th></th>\n",
       "      <th>client_type</th>\n",
       "      <th>total</th>\n",
       "    </tr>\n",
       "  </thead>\n",
       "  <tbody>\n",
       "    <tr>\n",
       "      <th>0</th>\n",
       "      <td>Retail</td>\n",
       "      <td>167.058929</td>\n",
       "    </tr>\n",
       "    <tr>\n",
       "      <th>1</th>\n",
       "      <td>Wholesale</td>\n",
       "      <td>709.521467</td>\n",
       "    </tr>\n",
       "  </tbody>\n",
       "</table>\n",
       "</div>"
      ],
      "text/plain": [
       "  client_type       total\n",
       "0      Retail  167.058929\n",
       "1   Wholesale  709.521467"
      ]
     },
     "execution_count": 26,
     "metadata": {},
     "output_type": "execute_result"
    }
   ],
   "source": [
    "avg_purchase_client= motor.groupby('client_type').total.mean().reset_index()\n",
    "avg_purchase_client"
   ]
  },
  {
   "cell_type": "code",
   "execution_count": 27,
   "id": "f36cc7dd",
   "metadata": {},
   "outputs": [
    {
     "data": {
      "image/png": "[encoded data removed]",
      "text/plain": [
       "<Figure size 864x432 with 1 Axes>"
      ]
     },
     "metadata": {},
     "output_type": "display_data"
    }
   ],
   "source": [
    "my_color=('Green','Red')\n",
    "plt.barh(avg_purchase_client.client_type, avg_purchase_client.total, color=my_color)\n",
    "plt.title('Average purchase value by client type', fontweight='bold', fontsize=16)\n",
    "plt.ylabel('client Type', fontweight='bold', fontsize=16)\n",
    "plt.xlabel('Total', fontweight='bold', fontsize=16)\n",
    "plt.grid(False)\n",
    "plt.yticks(rotation = 90)\n",
    "plt.show()"
   ]
  },
  {
   "cell_type": "markdown",
   "id": "80baacba",
   "metadata": {},
   "source": [
    "#### Observation\n",
    "- This shows that wholesale purchase was more compared to the retail purchase."
   ]
  },
  {
   "cell_type": "markdown",
   "id": "f276285e",
   "metadata": {},
   "source": [
    "### Total purchase value by product line"
   ]
  },
  {
   "cell_type": "code",
   "execution_count": 28,
   "id": "f4e7a52b",
   "metadata": {},
   "outputs": [
    {
     "data": {
      "text/html": [
       "<div>\n",
       "<style scoped>\n",
       "    .dataframe tbody tr th:only-of-type {\n",
       "        vertical-align: middle;\n",
       "    }\n",
       "\n",
       "    .dataframe tbody tr th {\n",
       "        vertical-align: top;\n",
       "    }\n",
       "\n",
       "    .dataframe thead th {\n",
       "        text-align: right;\n",
       "    }\n",
       "</style>\n",
       "<table border=\"1\" class=\"dataframe\">\n",
       "  <thead>\n",
       "    <tr style=\"text-align: right;\">\n",
       "      <th></th>\n",
       "      <th>product_line</th>\n",
       "      <th>sum</th>\n",
       "    </tr>\n",
       "  </thead>\n",
       "  <tbody>\n",
       "    <tr>\n",
       "      <th>0</th>\n",
       "      <td>Breaking system</td>\n",
       "      <td>38350.15</td>\n",
       "    </tr>\n",
       "    <tr>\n",
       "      <th>1</th>\n",
       "      <td>Electrical system</td>\n",
       "      <td>43612.71</td>\n",
       "    </tr>\n",
       "    <tr>\n",
       "      <th>2</th>\n",
       "      <td>Engine</td>\n",
       "      <td>37945.38</td>\n",
       "    </tr>\n",
       "    <tr>\n",
       "      <th>3</th>\n",
       "      <td>Frame &amp; body</td>\n",
       "      <td>69024.73</td>\n",
       "    </tr>\n",
       "    <tr>\n",
       "      <th>4</th>\n",
       "      <td>Miscellaneous</td>\n",
       "      <td>27165.82</td>\n",
       "    </tr>\n",
       "    <tr>\n",
       "      <th>5</th>\n",
       "      <td>Suspension &amp; traction</td>\n",
       "      <td>73014.21</td>\n",
       "    </tr>\n",
       "  </tbody>\n",
       "</table>\n",
       "</div>"
      ],
      "text/plain": [
       "            product_line       sum\n",
       "0        Breaking system  38350.15\n",
       "1      Electrical system  43612.71\n",
       "2                 Engine  37945.38\n",
       "3           Frame & body  69024.73\n",
       "4          Miscellaneous  27165.82\n",
       "5  Suspension & traction  73014.21"
      ]
     },
     "execution_count": 28,
     "metadata": {},
     "output_type": "execute_result"
    }
   ],
   "source": [
    "tot_purchase_product= motor.groupby('product_line').total.agg(['sum']).reset_index()\n",
    "tot_purchase_product"
   ]
  },
  {
   "cell_type": "code",
   "execution_count": 30,
   "id": "0f4041ac",
   "metadata": {},
   "outputs": [
    {
     "data": {
      "image/png": "[encoded data removed]",
      "text/plain": [
       "<Figure size 864x432 with 1 Axes>"
      ]
     },
     "metadata": {},
     "output_type": "display_data"
    }
   ],
   "source": [
    "#plotting a pie chart\n",
    "product_line=['Breaking system', 'Electrical system', 'Engine','Frame & body','Miscellaneous', 'Suspension & Traction']\n",
    "sales=np.array([38350.15, 43612.71, 37945.38, 69024.73, 27165.82, 73014.21])\n",
    "my_explode= [0,0,0,0,0,0.1]\n",
    "plt.pie(sales,labels=product_line, explode= my_explode, autopct='%1.1f%%')\n",
    "plt.title('Total purchase value by product line', fontweight='bold', fontsize=16);"
   ]
  },
  {
   "cell_type": "markdown",
   "id": "06a3c5ae",
   "metadata": {},
   "source": [
    "#### Observation\n",
    "- Suspension and Traction is the most purchased product line with total purchase of 73,014 Naira, which takes 25% of the total purchase. \n",
    "- Next to it is the frame body with 69,024 Naira, which takes 23.9% of the total purchase.\n",
    "- However, it is observed that the Engine had the highest unit pice value but not the most purchased product."
   ]
  },
  {
   "cell_type": "code",
   "execution_count": null,
   "id": "a03e7ba6",
   "metadata": {},
   "outputs": [],
   "source": []
  }
 ],
 "metadata": {
  "kernelspec": {
   "display_name": "Python 3 (ipykernel)",
   "language": "python",
   "name": "python3"
  },
  "language_info": {
   "codemirror_mode": {
    "name": "ipython",
    "version": 3
   },
   "file_extension": ".py",
   "mimetype": "text/x-python",
   "name": "python",
   "nbconvert_exporter": "python",
   "pygments_lexer": "ipython3",
   "version": "3.9.12"
  }
 },
 "nbformat": 4,
 "nbformat_minor": 5
}
